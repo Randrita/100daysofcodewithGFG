{
 "cells": [
  {
   "cell_type": "markdown",
   "id": "459d542a",
   "metadata": {},
   "source": [
    "# Sort an array of 0s, 1s and 2s "
   ]
  },
  {
   "cell_type": "markdown",
   "id": "76bbb5ae",
   "metadata": {},
   "source": [
    "## Input: \n",
    "N = 5 <br>\n",
    "arr[]= {0 2 1 2 0} <br>\n",
    "Output: <br>\n",
    "0 0 1 2 2 <br>\n",
    "Explanation: <br>\n",
    "0s 1s and 2s are segregated<br> \n",
    "into ascending order.<br>"
   ]
  },
  {
   "cell_type": "code",
   "execution_count": null,
   "id": "a7b92fba",
   "metadata": {},
   "outputs": [],
   "source": [
    "class Solution:\n",
    "    def sort012(self,arr,n):\n",
    "        # code here\n",
    "        arr=arr.sort()\n",
    "        return arr\n",
    "#{ \n",
    "#  Driver Code Starts\n",
    "#Initial Template for Python 3\n",
    "\n",
    "if __name__ == '__main__':\n",
    "    t=int(input())\n",
    "    for _ in range(t):\n",
    "        n=int(input())\n",
    "        arr=[int(x) for x in input().strip().split()]\n",
    "        ob=Solution()\n",
    "        ob.sort012(arr,n)\n",
    "        for i in arr:\n",
    "            print(i, end=' ')\n",
    "        print()\n",
    "\n",
    "# } Driver Code Ends"
   ]
  },
  {
   "cell_type": "code",
   "execution_count": null,
   "id": "04daec3e",
   "metadata": {},
   "outputs": [],
   "source": []
  }
 ],
 "metadata": {
  "kernelspec": {
   "display_name": "Python 3",
   "language": "python",
   "name": "python3"
  },
  "language_info": {
   "codemirror_mode": {
    "name": "ipython",
    "version": 3
   },
   "file_extension": ".py",
   "mimetype": "text/x-python",
   "name": "python",
   "nbconvert_exporter": "python",
   "pygments_lexer": "ipython3",
   "version": "3.8.8"
  }
 },
 "nbformat": 4,
 "nbformat_minor": 5
}
