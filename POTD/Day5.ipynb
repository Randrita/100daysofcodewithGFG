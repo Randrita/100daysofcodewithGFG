{
 "cells": [
  {
   "cell_type": "code",
   "execution_count": null,
   "id": "f1f1dc4c",
   "metadata": {},
   "outputs": [],
   "source": [
    "#User function Template for python3\n",
    "\n",
    "class Solution:\n",
    "    def MedianOfArrays(self, array1, array2):\n",
    "            #code here\n",
    "            arr3=array1+array2\n",
    "            arr3.sort()\n",
    "            length=len(arr3)\n",
    "            mid=length//2\n",
    "            if(length%2==0):\n",
    "                median=(arr3[mid]+arr3[mid-1])/2\n",
    "                if(median*10%10==0):\n",
    "                    median=int(median)\n",
    "                    return median\n",
    "                else:\n",
    "                    return median\n",
    "            else:\n",
    "                return arr3[mid]\n",
    "\n",
    "#{ \n",
    "#  Driver Code Starts\n",
    "if __name__ == '__main__':\n",
    "    tcs=int(input())\n",
    "\n",
    "    for _ in range(tcs):\n",
    "        m = input()\n",
    "        arr1=[int(x) for x in input().split()]\n",
    "        n = input()\n",
    "        arr2=[int(x) for x in input().split()]\n",
    "        \n",
    "        \n",
    "        ob = Solution()\n",
    "        print(ob.MedianOfArrays(arr1,arr2))\n",
    "\n",
    "# } Driver Code Ends"
   ]
  }
 ],
 "metadata": {
  "kernelspec": {
   "display_name": "Python 3",
   "language": "python",
   "name": "python3"
  },
  "language_info": {
   "codemirror_mode": {
    "name": "ipython",
    "version": 3
   },
   "file_extension": ".py",
   "mimetype": "text/x-python",
   "name": "python",
   "nbconvert_exporter": "python",
   "pygments_lexer": "ipython3",
   "version": "3.8.8"
  }
 },
 "nbformat": 4,
 "nbformat_minor": 5
}
