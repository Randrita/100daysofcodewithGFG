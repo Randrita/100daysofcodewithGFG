{
 "cells": [
  {
   "cell_type": "code",
   "execution_count": null,
   "id": "5b2ed6d1",
   "metadata": {},
   "outputs": [],
   "source": [
    "#User function Template for python3\n",
    "\n",
    "class Solution:\n",
    "    def factorial(self, N):\n",
    "        #code here\n",
    "        count=1\n",
    "        if N==0:\n",
    "            return str(1)\n",
    "        else:\n",
    "            while(N>=1):\n",
    "                count=count*N\n",
    "                N=N-1\n",
    "            return str(count)\n",
    "            \n",
    "\n",
    "#{ \n",
    "#  Driver Code Starts\n",
    "#Initial Template for Python 3\n",
    "\n",
    "if __name__ == '__main__':\n",
    "    t=int(input())\n",
    "    for _ in range(t):\n",
    "        N = int(input())\n",
    "        ob = Solution()\n",
    "        ans = ob.factorial(N);\n",
    "        for i in ans:\n",
    "            print(i,end=\"\")\n",
    "        print()\n",
    "    \n",
    "# } Driver Code Ends"
   ]
  }
 ],
 "metadata": {
  "kernelspec": {
   "display_name": "Python 3",
   "language": "python",
   "name": "python3"
  },
  "language_info": {
   "codemirror_mode": {
    "name": "ipython",
    "version": 3
   },
   "file_extension": ".py",
   "mimetype": "text/x-python",
   "name": "python",
   "nbconvert_exporter": "python",
   "pygments_lexer": "ipython3",
   "version": "3.8.8"
  }
 },
 "nbformat": 4,
 "nbformat_minor": 5
}
