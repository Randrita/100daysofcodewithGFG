{
 "cells": [
  {
   "cell_type": "code",
   "execution_count": 1,
   "id": "90e33011",
   "metadata": {},
   "outputs": [
    {
     "name": "stdout",
     "output_type": "stream",
     "text": [
      "1 5 9 7 0 5 8\n"
     ]
    }
   ],
   "source": [
    "arr=list(map(int, input().split()))"
   ]
  },
  {
   "cell_type": "code",
   "execution_count": 16,
   "id": "15217b1f",
   "metadata": {},
   "outputs": [
    {
     "name": "stdout",
     "output_type": "stream",
     "text": [
      "[0, 1, 5, 5, 7, 8, 9]\n"
     ]
    }
   ],
   "source": [
    "print(sorted(arr))"
   ]
  },
  {
   "cell_type": "code",
   "execution_count": 3,
   "id": "32def19e",
   "metadata": {},
   "outputs": [
    {
     "name": "stdout",
     "output_type": "stream",
     "text": [
      "6\n"
     ]
    }
   ],
   "source": [
    "y=int(input())"
   ]
  },
  {
   "cell_type": "code",
   "execution_count": 21,
   "id": "4632db88",
   "metadata": {},
   "outputs": [],
   "source": [
    "def twosum(arr,x):\n",
    "    \n",
    "    a=sorted(arr)\n",
    "    n=len(a)\n",
    "    i=0\n",
    "    j=n-1\n",
    "    while(i<j):\n",
    "        if(a[i]+a[j])<x:\n",
    "            i+=1\n",
    "            tempi=arr[i]\n",
    "        elif a[i]+a[j]>x:\n",
    "            j-=1\n",
    "            tempj=arr[j]\n",
    "        else:\n",
    "            print(\"The pair is: \" , tempi,tempj)\n",
    "            return True\n",
    "    \n",
    "    return False\n",
    "            \n",
    "    "
   ]
  },
  {
   "cell_type": "code",
   "execution_count": 22,
   "id": "200c2a0a",
   "metadata": {},
   "outputs": [
    {
     "name": "stdout",
     "output_type": "stream",
     "text": [
      "The pair is:  1 5\n"
     ]
    },
    {
     "data": {
      "text/plain": [
       "True"
      ]
     },
     "execution_count": 22,
     "metadata": {},
     "output_type": "execute_result"
    }
   ],
   "source": [
    "twosum(arr,y)"
   ]
  },
  {
   "cell_type": "code",
   "execution_count": null,
   "id": "caff0161",
   "metadata": {},
   "outputs": [],
   "source": []
  }
 ],
 "metadata": {
  "kernelspec": {
   "display_name": "Python 3",
   "language": "python",
   "name": "python3"
  },
  "language_info": {
   "codemirror_mode": {
    "name": "ipython",
    "version": 3
   },
   "file_extension": ".py",
   "mimetype": "text/x-python",
   "name": "python",
   "nbconvert_exporter": "python",
   "pygments_lexer": "ipython3",
   "version": "3.8.8"
  }
 },
 "nbformat": 4,
 "nbformat_minor": 5
}
