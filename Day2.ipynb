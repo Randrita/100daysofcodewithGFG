{
 "cells": [
  {
   "cell_type": "code",
   "execution_count": 4,
   "id": "d1098eb6",
   "metadata": {},
   "outputs": [
    {
     "name": "stdout",
     "output_type": "stream",
     "text": [
      "1\n",
      "6\n",
      "1 3 0 5 8 5\n",
      "2 4 6 7 9 9\n",
      "4\n"
     ]
    }
   ],
   "source": [
    "\n",
    "class Solution:\n",
    "    \n",
    "    #Function to find the maximum number of meetings that can\n",
    "    #be performed in a meeting room.\n",
    "    def maximumMeetings(self,n,start,end):\n",
    "       c=1\n",
    "       a = [(i,j) for i,j in zip(start,end)]\n",
    "       a = sorted(a, key = lambda x:x[1])\n",
    "       n = len(a)\n",
    "       s=0\n",
    "       for i in range(0,n):\n",
    "           if a[i][0] > a[s][1]:\n",
    "               c+=1\n",
    "               s=i\n",
    "    \n",
    "       return c\n",
    "#{ \n",
    "#  Driver Code Starts\n",
    "#Initial Template for Python 3\n",
    "import atexit\n",
    "import io\n",
    "import sys\n",
    "\n",
    "#Contributed by : Nagendra Jha\n",
    "\n",
    "if __name__ == '__main__':\n",
    "    test_cases = int(input())\n",
    "    for cases in range(test_cases) :\n",
    "        n = int(input())\n",
    "        start = list(map(int,input().strip().split()))\n",
    "        end = list(map(int,input().strip().split()))\n",
    "        ob=Solution()\n",
    "        print(ob.maximumMeetings(n,start,end))\n",
    "# } Driver Code Ends"
   ]
  },
  {
   "cell_type": "code",
   "execution_count": null,
   "id": "cfdec4cf",
   "metadata": {},
   "outputs": [],
   "source": []
  }
 ],
 "metadata": {
  "kernelspec": {
   "display_name": "Python 3",
   "language": "python",
   "name": "python3"
  },
  "language_info": {
   "codemirror_mode": {
    "name": "ipython",
    "version": 3
   },
   "file_extension": ".py",
   "mimetype": "text/x-python",
   "name": "python",
   "nbconvert_exporter": "python",
   "pygments_lexer": "ipython3",
   "version": "3.8.8"
  }
 },
 "nbformat": 4,
 "nbformat_minor": 5
}
